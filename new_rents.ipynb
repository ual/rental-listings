{
 "cells": [
  {
   "cell_type": "code",
   "execution_count": null,
   "metadata": {
    "collapsed": true
   },
   "outputs": [],
   "source": [
    "# import necessary modules and display matplotlib plots inline within the ipython notebook webpage\n",
    "\n",
    "import pandas as pd, numpy as np, statsmodels.api as sm\n",
    "import matplotlib.pyplot as plt, matplotlib.cm as cm, matplotlib.font_manager as fm\n",
    "import matplotlib.mlab as mlab\n",
    "from scipy.stats import pearsonr, ttest_rel\n",
    "%matplotlib inline"
   ]
  },
  {
   "cell_type": "code",
   "execution_count": null,
   "metadata": {
    "collapsed": false
   },
   "outputs": [],
   "source": [
    "with open('pg_engine.txt') as f:\n",
    "    pg_engine = f.readlines()\n",
    "from sqlalchemy import create_engine\n",
    "engine = create_engine(pg_engine[0])"
   ]
  },
  {
   "cell_type": "code",
   "execution_count": null,
   "metadata": {
    "collapsed": false
   },
   "outputs": [],
   "source": [
    "%%time\n",
    "import pandas as pd\n",
    "df = pd.read_sql_query('select * from \"rental_listings\"',con=engine)"
   ]
  },
  {
   "cell_type": "code",
   "execution_count": null,
   "metadata": {
    "collapsed": false
   },
   "outputs": [],
   "source": [
    "print(df.dtypes)\n",
    "df.describe()"
   ]
  },
  {
   "cell_type": "code",
   "execution_count": null,
   "metadata": {
    "collapsed": true
   },
   "outputs": [],
   "source": [
    "# convert the date column to yyyy-mm-dd date format\n",
    "df['date'] = pd.to_datetime(df['date'], format='%Y-%m-%d')"
   ]
  },
  {
   "cell_type": "code",
   "execution_count": null,
   "metadata": {
    "collapsed": true
   },
   "outputs": [],
   "source": [
    "def get_colors(cmap, n, start=0., stop=1., alpha=1., reverse=False):\n",
    "    '''return n-length list of rgba colors from the passed colormap name and alpha,\n",
    "       limit extent by start/stop values and reverse list order if flag is true'''\n",
    "    colors = [cm.get_cmap(cmap)(x) for x in np.linspace(start, stop, n)]\n",
    "    colors = [(r, g, b, alpha) for r, g, b, _ in colors]\n",
    "    return list(reversed(colors)) if reverse else colors"
   ]
  },
  {
   "cell_type": "code",
   "execution_count": null,
   "metadata": {
    "collapsed": false
   },
   "outputs": [],
   "source": [
    "# define the font styles\n",
    "family = 'Arial'\n",
    "title_font = fm.FontProperties(family=family, style='normal', size=18, weight='normal', stretch='normal')\n",
    "label_font = fm.FontProperties(family=family, style='normal', size=16, weight='normal', stretch='normal')\n",
    "ticks_font = fm.FontProperties(family=family, style='normal', size=14, weight='normal', stretch='normal')"
   ]
  },
  {
   "cell_type": "code",
   "execution_count": null,
   "metadata": {
    "collapsed": false
   },
   "outputs": [],
   "source": [
    "# load the 2014 census data set of MSAs\n",
    "census = pd.read_csv('data/census_pop_income.csv', encoding='ISO-8859-1')\n",
    "census['2014_median_income'] = census['2014_median_income'].str.replace(',','').astype(int)\n",
    "census['2014_pop_est'] = census['2014_pop_est'].str.replace(',','').astype(int)\n",
    "census = census.drop(labels='notes', axis=1, inplace=False)\n",
    "census = census.set_index('region')\n",
    "census.head()"
   ]
  },
  {
   "cell_type": "code",
   "execution_count": null,
   "metadata": {
    "collapsed": false
   },
   "outputs": [],
   "source": [
    "# these are the 15 most populous metros by population, defined by census bureau 2014 estimates\n",
    "most_populous_regions = census['2014_pop_est'].sort_values(ascending=False, inplace=False)\n",
    "print(most_populous_regions.head(15))"
   ]
  },
  {
   "cell_type": "code",
   "execution_count": null,
   "metadata": {
    "collapsed": false
   },
   "outputs": [],
   "source": [
    "df['region'].value_counts()"
   ]
  },
  {
   "cell_type": "code",
   "execution_count": null,
   "metadata": {
    "collapsed": true
   },
   "outputs": [],
   "source": [
    "# function to save images consistently\n",
    "save_dpi = [96, 300]\n",
    "def save_fig(fig, title, tight=True):    \n",
    "    if tight:\n",
    "        fig.tight_layout()\n",
    "    for dpi in save_dpi:\n",
    "        save_folder = 'images/dpi_{}/'.format(dpi)\n",
    "        fig.savefig(save_folder + title, dpi=dpi)"
   ]
  },
  {
   "cell_type": "code",
   "execution_count": null,
   "metadata": {
    "collapsed": false
   },
   "outputs": [],
   "source": [
    "# create ticks and tick labels for the time series\n",
    "listings_per_date = df['date'].value_counts()\n",
    "listings_per_date = listings_per_date.sort_index()\n",
    "listings_per_date = listings_per_date.reset_index()\n",
    "xticks = listings_per_date.iloc[range(0, len(listings_per_date), 7)].index\n",
    "xtick_labels = listings_per_date.loc[xticks, 'index']\n",
    "xtick_labels = [str(x).split()[0] for x in xtick_labels]"
   ]
  },
  {
   "cell_type": "code",
   "execution_count": null,
   "metadata": {
    "collapsed": false
   },
   "outputs": [],
   "source": [
    "# plot the total number of listings (includes dupes/re-posts) posted on each day in the data set\n",
    "ax = listings_per_date.plot(kind='line', figsize=[10, 6], ylim=[0,100000], linewidth=3, \n",
    "                            marker='o', markeredgewidth=0, alpha=0.7, color='#003399')\n",
    "ax.grid(True)\n",
    "ax.set_title('Total rental listings posted per day', fontproperties=title_font)\n",
    "ax.set_ylabel('Number of listings posted', fontproperties=label_font)\n",
    "ax.legend_.remove()\n",
    "\n",
    "ax.set_xticks(xticks)\n",
    "ax.set_xticklabels(xtick_labels, rotation=40, rotation_mode='anchor', ha='right', fontproperties=ticks_font)\n",
    "for label in ax.get_yticklabels():\n",
    "    label.set_fontproperties(ticks_font)\n",
    "\n",
    "save_fig(plt.gcf(), 'date_count_listings_posted.png')\n",
    "plt.show()"
   ]
  },
  {
   "cell_type": "code",
   "execution_count": null,
   "metadata": {
    "collapsed": false
   },
   "outputs": [],
   "source": [
    "#store = pd.HDFStore('data/rents.h5')\n",
    "#store['rents'] = df\n",
    "df.to_hdf('data/rents.h5','rents',append=False)"
   ]
  },
  {
   "cell_type": "code",
   "execution_count": null,
   "metadata": {
    "collapsed": false
   },
   "outputs": [],
   "source": [
    "store = pd.HDFStore('data/rents.h5')\n",
    "store"
   ]
  },
  {
   "cell_type": "code",
   "execution_count": null,
   "metadata": {
    "collapsed": false
   },
   "outputs": [],
   "source": [
    "upper_percentile = 0.998\n",
    "lower_percentile = 0.002\n",
    "\n",
    "# how many rows would be within the upper and lower percentiles?\n",
    "upper = int(len(df) * upper_percentile)\n",
    "lower = int(len(df) * lower_percentile)\n",
    "\n",
    "# get the rent/sqft values at the upper and lower percentiles\n",
    "rent_sqft_sorted = df['rent_sqft'].sort_values(ascending=True, inplace=False)\n",
    "upper_rent_sqft = rent_sqft_sorted.iloc[upper]\n",
    "lower_rent_sqft = rent_sqft_sorted.iloc[lower]\n",
    "\n",
    "# get the rent values at the upper and lower percentiles\n",
    "rent_sorted = df['rent'].sort_values(ascending=True, inplace=False)\n",
    "upper_rent = rent_sorted.iloc[upper]\n",
    "lower_rent = rent_sorted.iloc[lower]\n",
    "\n",
    "# get the sqft values at the upper and lower percentiles\n",
    "sqft_sorted = df['sqft'].sort_values(ascending=True, inplace=False)\n",
    "upper_sqft = sqft_sorted.iloc[upper]\n",
    "lower_sqft = sqft_sorted.iloc[lower]\n",
    "\n",
    "print('valid rent_sqft range:', [lower_rent_sqft, upper_rent_sqft])\n",
    "print('valid rent range:', [lower_rent, upper_rent])\n",
    "print('valid sqft range:', [lower_sqft, upper_sqft])"
   ]
  },
  {
   "cell_type": "code",
   "execution_count": null,
   "metadata": {
    "collapsed": false
   },
   "outputs": [],
   "source": [
    "# create a boolean vector mask to filter out any rows with rent_sqft outside of the reasonable values\n",
    "rent_sqft_mask = (df['rent_sqft'] > lower_rent_sqft) & (df['rent_sqft'] < upper_rent_sqft)\n",
    "\n",
    "# create boolean vector masks to filter out any rows with rent or sqft outside of the reasonable values\n",
    "rent_mask = (df['rent'] > lower_rent) & (df['rent'] < upper_rent)\n",
    "sqft_mask = (df['sqft'] > lower_sqft) & (df['sqft'] < upper_sqft)\n",
    "\n",
    "# filter the thorough listings according to these masks\n",
    "filtered_listings = pd.DataFrame(df[rent_sqft_mask & rent_mask & sqft_mask])\n",
    "len(filtered_listings)"
   ]
  },
  {
   "cell_type": "code",
   "execution_count": null,
   "metadata": {
    "collapsed": false
   },
   "outputs": [],
   "source": [
    "filtered_listings.describe()"
   ]
  },
  {
   "cell_type": "code",
   "execution_count": null,
   "metadata": {
    "collapsed": false
   },
   "outputs": [],
   "source": [
    "sfbay = filtered_listings[filtered_listings['region']=='sfbay']\n",
    "sfbay.describe()"
   ]
  },
  {
   "cell_type": "code",
   "execution_count": null,
   "metadata": {
    "collapsed": false
   },
   "outputs": [],
   "source": [
    "sfbay['rent_sqft'].quantile(.01)"
   ]
  },
  {
   "cell_type": "code",
   "execution_count": null,
   "metadata": {
    "collapsed": false
   },
   "outputs": [],
   "source": [
    "sfbay['sqft'].quantile(.01)"
   ]
  },
  {
   "cell_type": "code",
   "execution_count": null,
   "metadata": {
    "collapsed": false
   },
   "outputs": [],
   "source": [
    "# create a boolean vector mask to filter out any rows with rent_sqft and sqft in Bay Area under 1 percentile\n",
    "sfbay_rent_sqft_mask = (sfbay['rent_sqft'] > sfbay['rent_sqft'].quantile(.01) )\n",
    "\n",
    "# create boolean vector masks to filter out any rows with rent or sqft outside of the reasonable values\n",
    "sfbay_sqft_mask = (sfbay['sqft'] > sfbay['sqft'].quantile(.01) )\n",
    "\n",
    "# filter the thorough listings according to these masks\n",
    "sfbay_filtered = pd.DataFrame(sfbay[sfbay_rent_sqft_mask & sfbay_sqft_mask])\n",
    "len(sfbay_filtered)"
   ]
  },
  {
   "cell_type": "code",
   "execution_count": null,
   "metadata": {
    "collapsed": false
   },
   "outputs": [],
   "source": [
    "sfbay_filtered.describe()"
   ]
  },
  {
   "cell_type": "code",
   "execution_count": null,
   "metadata": {
    "collapsed": false
   },
   "outputs": [],
   "source": [
    "geocoded = pd.read_csv('data/craigslist_data_wblockid.csv', dtype={'GEOID10': object}).rename(columns={'GEOID10':'fips_block'})"
   ]
  },
  {
   "cell_type": "code",
   "execution_count": null,
   "metadata": {
    "collapsed": false
   },
   "outputs": [],
   "source": [
    "print(geocoded.columns)\n",
    "geocoded.describe()"
   ]
  },
  {
   "cell_type": "code",
   "execution_count": null,
   "metadata": {
    "collapsed": false
   },
   "outputs": [],
   "source": [
    "geocoded[:10]"
   ]
  },
  {
   "cell_type": "code",
   "execution_count": null,
   "metadata": {
    "collapsed": false
   },
   "outputs": [],
   "source": [
    "sfbay_geocoded = geocoded[geocoded['region']=='sfbay']\n",
    "sfbay_geocoded.describe()"
   ]
  },
  {
   "cell_type": "code",
   "execution_count": null,
   "metadata": {
    "collapsed": false
   },
   "outputs": [],
   "source": [
    "from pyproj import Proj, transform\n",
    "\n",
    "## Datashader needs the location in web mercator coordiates\n",
    "\n",
    "# WGS 84\n",
    "inProj = Proj(init='epsg:4326')\n",
    "\n",
    "# Web mercator \n",
    "outProj = Proj(init='epsg:3857')\n",
    "\n",
    "geocoded['X'],geocoded['Y'] = transform(inProj,outProj,geocoded['longitude'].values,geocoded['latitude'].values)\n",
    "geocoded[['X','Y']].describe()"
   ]
  },
  {
   "cell_type": "code",
   "execution_count": null,
   "metadata": {
    "collapsed": false
   },
   "outputs": [],
   "source": [
    "import datashader as ds\n",
    "import datashader.transfer_functions as tf\n",
    "import pandas as pd\n",
    "\n",
    "US_XMin = -124.848974\n",
    "US_XMax = -66.885444\n",
    "\n",
    "US_YMin = 24.396308\n",
    "US_YMax = 49.384358\n",
    "\n",
    "geocoded = geocoded[(geocoded['longitude']>US_XMin) & (geocoded['longitude']<US_XMax)]\n",
    "geocoded = geocoded[(geocoded['latitude']>US_YMin) & (geocoded['latitude']<US_YMax)]\n",
    "\n",
    "cvs = ds.Canvas(plot_width=1000, plot_height=600)\n",
    "agg = cvs.points(geocoded, 'longitude', 'latitude', ds.mean('rent_sqft'))\n",
    "img = tf.shade(agg, cmap=['lightgreen', 'darkblue'], how='log')\n",
    "img"
   ]
  },
  {
   "cell_type": "code",
   "execution_count": null,
   "metadata": {
    "collapsed": false
   },
   "outputs": [],
   "source": [
    "import datashader as ds\n",
    "import datashader.transfer_functions as tf\n",
    "import pandas as pd\n",
    "\n",
    "US_XMin = -1.385944e+07\n",
    "US_XMax = -7.461725e+06\n",
    "\n",
    "US_YMin = 2.820464e+06\n",
    "US_YMax = 6.274965e+06\n",
    "\n",
    "geocoded = geocoded[(geocoded['X']>US_XMin) & (geocoded['X']<US_XMax)]\n",
    "geocoded = geocoded[(geocoded['Y']>US_YMin) & (geocoded['Y']<US_YMax)]\n",
    "\n",
    "cvs = ds.Canvas(plot_width=1000, plot_height=600)\n",
    "agg = cvs.points(geocoded, 'longitude', 'latitude', ds.mean('rent_sqft'))\n",
    "img = tf.shade(agg, cmap=['lightgreen', 'darkblue'], how='log')\n",
    "img"
   ]
  },
  {
   "cell_type": "code",
   "execution_count": null,
   "metadata": {
    "collapsed": false
   },
   "outputs": [],
   "source": [
    "filtered_listings['X'],filtered_listings['Y'] = transform(inProj,outProj,filtered_listings['longitude'].values,filtered_listings['latitude'].values)\n",
    "\n",
    "US_XMin = -1.385944e+07\n",
    "US_XMax = -7.461725e+06\n",
    "\n",
    "US_YMin = 2.820464e+06\n",
    "US_YMax = 6.274965e+06\n",
    "\n",
    "filtered_listings = filtered_listings[(filtered_listings['X']>US_XMin) & (filtered_listings['X']<US_XMax)]\n",
    "filtered_listings = filtered_listings[(filtered_listings['Y']>US_YMin) & (filtered_listings['Y']<US_YMax)]\n",
    "\n",
    "filtered_listings[['longitude','latitude','X','Y']].describe()"
   ]
  },
  {
   "cell_type": "code",
   "execution_count": null,
   "metadata": {
    "collapsed": true
   },
   "outputs": [],
   "source": [
    "cvs = ds.Canvas(plot_width=1000, plot_height=600)\n",
    "agg = cvs.points(filtered_listings, 'X', 'Y', ds.mean('rent_sqft'))\n",
    "img = tf.shade(agg, cmap=['lightgreen', 'darkblue'], how='log')\n",
    "img"
   ]
  },
  {
   "cell_type": "code",
   "execution_count": null,
   "metadata": {
    "collapsed": true
   },
   "outputs": [],
   "source": [
    "import datashader as ds \n",
    "import datashader.transfer_functions as tf\n",
    "from datashader.colors import Greys9, Hot, colormap_select as cm \n",
    "def bg(img): return tf.set_background(img,\"black\")"
   ]
  },
  {
   "cell_type": "code",
   "execution_count": null,
   "metadata": {
    "collapsed": true
   },
   "outputs": [],
   "source": [
    "#USA = ((-124.848974, -66.885444), (24.396308, 49.384358))\n",
    "USA = ((-1.385944e+07, -7.461725e+06), (2.820464e+06, 6.274965e+06)) \n",
    "x_range,y_range = USA\n",
    " \n",
    "plot_width = int(900)\n",
    "plot_height = int(plot_width*7.0/12)"
   ]
  },
  {
   "cell_type": "code",
   "execution_count": null,
   "metadata": {
    "collapsed": true
   },
   "outputs": [],
   "source": [
    "def create_image(x_range, y_range, w=plot_width, h=plot_height, spread=0):\n",
    "    cvs = ds.Canvas(plot_width=w, plot_height=h, x_range=x_range, y_range=y_range)\n",
    "    agg = cvs.points(df, 'meterswest', 'metersnorth', ds.count_cat('race'))\n",
    "    img = tf.colorize(agg, color_key, how='eq_hist')\n",
    "    if spread: img = tf.spread(img,px=spread)\n",
    "    return tf.set_background(img,\"black\")"
   ]
  },
  {
   "cell_type": "code",
   "execution_count": null,
   "metadata": {
    "collapsed": false
   },
   "outputs": [],
   "source": [
    "from bokeh.tile_providers import STAMEN_TERRAIN\n",
    "from bokeh.tile_providers import STAMEN_TONER\n",
    "\n",
    "from bokeh.embed import file_html\n",
    "from bokeh.plotting import figure, output_notebook, output_file, show\n",
    "from datashader.utils import export_image\n",
    "from datashader.colors import colormap_select, Greys9, Hot, viridis, inferno\n",
    "from bokeh.resources import CDN\n",
    "from bokeh.io import save\n",
    "\n",
    "\n",
    "from functools import partial\n",
    "\n",
    "output_notebook()"
   ]
  },
  {
   "cell_type": "code",
   "execution_count": null,
   "metadata": {
    "collapsed": false
   },
   "outputs": [],
   "source": [
    "import bokeh.plotting as bp\n",
    "from bokeh.models.tiles import WMTSTileSource\n",
    " \n",
    "bp.output_notebook()\n",
    " \n",
    "def base_plot(tools='pan,wheel_zoom,reset',webgl=False):\n",
    "     p = bp.figure(tools=tools,\n",
    "         plot_width=int(900), plot_height=int(500),\n",
    "         x_range=x_range, y_range=y_range, outline_line_color=None,\n",
    "         min_border=0, min_border_left=0, min_border_right=0,\n",
    "         min_border_top=0, min_border_bottom=0, webgl=webgl)\n",
    " \n",
    "     p.axis.visible = False\n",
    "     p.xgrid.grid_line_color = None\n",
    "     p.ygrid.grid_line_color = None\n",
    " \n",
    "     return p\n",
    " \n",
    "p = base_plot()\n",
    " \n",
    "url=\"http://server.arcgisonline.com/ArcGIS/rest/services/World_Imagery/MapServer/tile/{Z}/{Y}/{X}.png\" \n",
    "tile_renderer = p.add_tile(WMTSTileSource(url=url)) \n",
    "tile_renderer.alpha=1.0"
   ]
  },
  {
   "cell_type": "code",
   "execution_count": null,
   "metadata": {
    "collapsed": false
   },
   "outputs": [],
   "source": [
    "from datashader.bokeh_ext import InteractiveImage\n",
    "background = 'white'\n",
    "\n",
    "def image_callback(x_range, y_range, w, h):\n",
    "    cvs = ds.Canvas(plot_width=1000, plot_height=600)\n",
    "    agg = cvs.points(filtered_listings, 'X', 'Y', ds.mean('rent_sqft'))\n",
    "    img = tf.shade(agg, cmap=['lightgreen', 'darkblue'], how='log')\n",
    "    return tf.dynspread(img,threshold=0.75, max_px=8)\n",
    "\n",
    "p = base_plot()\n",
    "\n",
    "#url=\"http://tile.stamen.com/toner-background/{Z}/{X}/{Y}.png\"\n",
    "url=\"http://tile.stamen.com/terrain/{Z}/{X}/{Y}.png\"\n",
    "#url=\"http://server.arcgisonline.com/ArcGIS/rest/services/World_Imagery/MapServer/tile/{Z}/{Y}/{X}.png\"\n",
    "tile_renderer = p.add_tile(WMTSTileSource(url=url))\n",
    "tile_renderer.alpha=1.0 if background == \"black\" else 0.15\n",
    "\n",
    "InteractiveImage(p, image_callback)"
   ]
  },
  {
   "cell_type": "code",
   "execution_count": null,
   "metadata": {
    "collapsed": false
   },
   "outputs": [],
   "source": [
    "#US = x_range, y_range = ((df_slice.xWeb.min(),df_slice.xWeb.max()), (4898057.594904038,5565974.539663678))\n",
    "USA = ((-1.385944e+07, -7.461725e+06), (2.820464e+06, 6.274965e+06)) \n",
    "x_range,y_range = USA\n",
    "\n",
    "plot_width  = int(900)\n",
    "plot_height = int(plot_width//1.4)\n",
    "\n",
    "\n",
    "def base_plot(tools='pan,wheel_zoom,reset',plot_width=plot_width, plot_height=plot_height, **plot_args):\n",
    "    p = figure(tools=tools, plot_width=plot_width, plot_height=plot_height, webgl=True,\n",
    "        x_range=x_range, y_range=y_range, outline_line_color=None,\n",
    "        min_border=0, min_border_left=0, min_border_right=0,\n",
    "        min_border_top=0, min_border_bottom=0, **plot_args)\n",
    "\n",
    "    p.axis.visible = False\n",
    "    p.xgrid.grid_line_color = None\n",
    "    p.ygrid.grid_line_color = None\n",
    "    return p\n",
    "    \n",
    "options = dict(line_color=None, fill_color='blue', size=5)\n",
    "\n",
    "background = \"black\"\n",
    "export = partial(export_image, export_path=\"export\", background=background)\n",
    "cm = partial(colormap_select, reverse=(background==\"black\"))\n",
    "\n",
    "def create_image(x_range, y_range, w=plot_width, h=plot_height):    \n",
    "    cvs = ds.Canvas(plot_width=w, plot_height=h, x_range=x_range, y_range=y_range)\n",
    "    agg = cvs.points(filtered_listings, 'X', 'Y', ds.mean('rent_sqft'))\n",
    "    img = tf.shade(agg, cmap=['lightgreen', 'darkblue'], how='log')\n",
    "\n",
    "    #img = tf.shade(agg, cmap=Hot, how='eq_hist')\n",
    "    return tf.dynspread(img, threshold=0.5, max_px=4)\n",
    "\n",
    "p = base_plot()\n",
    "p.add_tile(STAMEN_TERRAIN)\n",
    "\n",
    "# this export step is not neccesary - it saves a PNG of the file\n",
    "#export(create_image(*USA),\"US_CL\")\n",
    "#html = save(p, \"craigslist\")\n",
    "\n",
    "\n",
    "# this is where the magic happens\n",
    "InteractiveImage(p, create_image)"
   ]
  },
  {
   "cell_type": "code",
   "execution_count": null,
   "metadata": {
    "collapsed": false
   },
   "outputs": [],
   "source": [
    "Html_file= open(\"craigslist.html\",\"w\")\n",
    "Html_file.write(html)\n",
    "Html_file.close()"
   ]
  },
  {
   "cell_type": "code",
   "execution_count": null,
   "metadata": {
    "collapsed": false
   },
   "outputs": [],
   "source": [
    "import statsmodels.api as sm\n",
    "import numpy as np\n",
    "from patsy import dmatrices\n",
    "y, X = dmatrices('np.log(rent) ~ np.log(sqft) + bedrooms', data=sfbay_geocoded, return_type='dataframe')\n",
    "mod = sm.OLS(y, X)\n",
    "res = mod.fit()\n",
    "print(res.summary())"
   ]
  },
  {
   "cell_type": "code",
   "execution_count": null,
   "metadata": {
    "collapsed": false
   },
   "outputs": [],
   "source": [
    "errors =  res.resid\n",
    "errors.hist(bins=25)"
   ]
  },
  {
   "cell_type": "code",
   "execution_count": null,
   "metadata": {
    "collapsed": false
   },
   "outputs": [],
   "source": [
    "pred = res.fittedvalues\n",
    "pred.hist(bins=25)"
   ]
  },
  {
   "cell_type": "code",
   "execution_count": null,
   "metadata": {
    "collapsed": false
   },
   "outputs": [],
   "source": [
    "plt.figure(1, figsize=(10,8), )\n",
    "plt.scatter(res.fittedvalues, res.resid, s=.03, color='green')\n",
    "plt.show();"
   ]
  },
  {
   "cell_type": "code",
   "execution_count": null,
   "metadata": {
    "collapsed": false
   },
   "outputs": [],
   "source": [
    "import statsmodels.api as sm\n",
    "import numpy as np\n",
    "from patsy import dmatrices\n",
    "y, X = dmatrices('np.log(rent) ~ np.log(sqft) + bedrooms', data=sfbay_filtered, return_type='dataframe')\n",
    "mod = sm.OLS(y, X)\n",
    "res = mod.fit()\n",
    "residuals = res.resid\n",
    "predicted = res.fittedvalues\n",
    "observed = y\n",
    "print(res.summary())"
   ]
  },
  {
   "cell_type": "code",
   "execution_count": null,
   "metadata": {
    "collapsed": false
   },
   "outputs": [],
   "source": [
    "plt.hist(residuals, bins=25, normed=True, alpha=.5)\n",
    "mu = residuals.mean()\n",
    "variance = residuals.var()\n",
    "sigma = residuals.std()\n",
    "x = np.linspace(-3, 3, 100)\n",
    "plt.plot(x,mlab.normpdf(x, mu, sigma));"
   ]
  },
  {
   "cell_type": "code",
   "execution_count": null,
   "metadata": {
    "collapsed": false
   },
   "outputs": [],
   "source": [
    "plt.figure(1, figsize=(10,8), )\n",
    "plt.plot([7, 9], [0, 0], c='b')\n",
    "plt.scatter(predicted, residuals, marker=0, s=2, c='g');\n",
    "plt.axis([7.25, 9, -1.5, 1.5])\n",
    "plt.show();"
   ]
  },
  {
   "cell_type": "code",
   "execution_count": null,
   "metadata": {
    "collapsed": false
   },
   "outputs": [],
   "source": [
    "plt.figure(1, figsize=(10,8), )\n",
    "plt.plot([6, 9.5], [6, 9.5])\n",
    "plt.scatter(observed, predicted, marker=0, s=2, c='g')\n",
    "plt.axis([6.5, 9.5, 6.5, 9.5])\n",
    "plt.show();"
   ]
  },
  {
   "cell_type": "code",
   "execution_count": null,
   "metadata": {
    "collapsed": false
   },
   "outputs": [],
   "source": [
    "print(residuals.mean())\n",
    "print(residuals.std())"
   ]
  },
  {
   "cell_type": "code",
   "execution_count": null,
   "metadata": {
    "collapsed": false
   },
   "outputs": [],
   "source": [
    "mod = sm.WLS(y, X, weights=1.)\n",
    "res = mod.fit()\n",
    "print(res.summary())"
   ]
  },
  {
   "cell_type": "code",
   "execution_count": null,
   "metadata": {
    "collapsed": false
   },
   "outputs": [],
   "source": [
    "from pymc3 import Model, NUTS, sample\n",
    "from pymc3.glm import glm\n",
    "\n",
    "with Model() as model_glm:\n",
    "    glm('np.log(rent) ~ np.log(sqft) + bedrooms + bathrooms', sfbay_filtered)\n",
    "    trace = sample(5000)"
   ]
  },
  {
   "cell_type": "code",
   "execution_count": null,
   "metadata": {
    "collapsed": false
   },
   "outputs": [],
   "source": [
    "from pymc3 import traceplot\n",
    "%matplotlib inline\n",
    "traceplot(trace);"
   ]
  },
  {
   "cell_type": "code",
   "execution_count": null,
   "metadata": {
    "collapsed": false
   },
   "outputs": [],
   "source": [
    "from scipy import optimize\n",
    "from pymc3 import find_MAP\n",
    "with model_glm:\n",
    "\n",
    "    # obtain starting values via MAP\n",
    "    start = find_MAP(fmin=optimize.fmin_powell)\n",
    "\n",
    "    # draw 2000 posterior samples\n",
    "    trace = sample(5000, start=start)"
   ]
  },
  {
   "cell_type": "code",
   "execution_count": null,
   "metadata": {
    "collapsed": false
   },
   "outputs": [],
   "source": [
    "traceplot(trace);"
   ]
  },
  {
   "cell_type": "code",
   "execution_count": null,
   "metadata": {
    "collapsed": true
   },
   "outputs": [],
   "source": [
    "import matplotlib.pyplot as plt\n",
    "import theano\n",
    "import pymc3 as pm"
   ]
  },
  {
   "cell_type": "code",
   "execution_count": null,
   "metadata": {
    "collapsed": false
   },
   "outputs": [],
   "source": [
    "fig = plt.figure(figsize=(7, 7))\n",
    "ax = fig.add_subplot(111, xlabel='x', ylabel='y', title='Generated data and underlying model')\n",
    "ax.plot(np.log(sfbay['sqft']), np.log(sfbay['rent']), 'o', markersize=.5, color='blue', label='sampled data')\n",
    "#ax.plot(x, true_regression_line, label='true regression line', lw=2.)\n",
    "#pm.glm.plot_posterior_predictive(trace, samples=100,\n",
    "#                                 label='posterior predictive regression lines')\n",
    "plt.legend(loc=0);"
   ]
  },
  {
   "cell_type": "code",
   "execution_count": null,
   "metadata": {
    "collapsed": false
   },
   "outputs": [],
   "source": [
    "#Write out selected counties for student use\n",
    "sanfrancisco = geocoded[geocoded['fips_block'].str.startswith('06075')]\n",
    "alameda = geocoded[geocoded['fips_block'].str.startswith('06001')]\n",
    "denver = geocoded[geocoded['fips_block'].str.startswith('08031')]\n",
    "washingtondc = geocoded[geocoded['fips_block'].str.startswith('11001')]\n",
    "king = geocoded[geocoded['fips_block'].str.startswith('53033')]\n",
    "cook = geocoded[geocoded['fips_block'].str.startswith('17031')]\n",
    "neworleans = geocoded[geocoded['fips_block'].str.startswith('22071')]\n",
    "suffolk = geocoded[geocoded['fips_block'].str.startswith('25025')]\n",
    "manhattan = geocoded[geocoded['fips_block'].str.startswith('36061')]\n",
    "kings = geocoded[geocoded['fips_block'].str.startswith('36047')]\n",
    "staten = geocoded[geocoded['fips_block'].str.startswith('36085')]\n",
    "bronx = geocoded[geocoded['fips_block'].str.startswith('36005')]\n",
    "queens = geocoded[geocoded['fips_block'].str.startswith('36081')]\n",
    "wayne = geocoded[geocoded['fips_block'].str.startswith('42127')]\n",
    "multnomah = geocoded[geocoded['fips_block'].str.startswith('41051')]\n",
    "austin = geocoded[geocoded['fips_block'].str.startswith('48015')]\n",
    "\n",
    "sanfrancisco.to_csv('sanfrancisco.csv')\n",
    "alameda.to_csv('alameda.csv')\n",
    "denver.to_csv('denver.csv')\n",
    "washingtondc.to_csv('washingtondc.csv')\n",
    "king.to_csv('king.csv')\n",
    "cook.to_csv('cook.csv')\n",
    "neworleans.to_csv('neworleans.csv')\n",
    "suffolk.to_csv('suffolk.csv')\n",
    "manhattan.to_csv('manhattan.csv')\n",
    "kings.to_csv('kings.csv')\n",
    "staten.to_csv('staten.csv')\n",
    "bronx.to_csv('bronx.csv')\n",
    "queens.to_csv('queens.csv')\n",
    "wayne.to_csv('wayne.csv')\n",
    "multnomah.to_csv('multnomah.csv')\n",
    "austin.to_csv('austin.csv')"
   ]
  },
  {
   "cell_type": "code",
   "execution_count": null,
   "metadata": {
    "collapsed": false
   },
   "outputs": [],
   "source": [
    "austin = geocoded[geocoded['fips_block'].str.startswith('48453')]\n",
    "austin.describe()\n",
    "austin.to_csv('austin.csv')"
   ]
  },
  {
   "cell_type": "code",
   "execution_count": null,
   "metadata": {
    "collapsed": false
   },
   "outputs": [],
   "source": [
    "middlesex = geocoded[geocoded['fips_block'].str.startswith('25017')]\n",
    "middlesex.describe()\n",
    "#middlesex.to_csv('middlesex.csv')"
   ]
  },
  {
   "cell_type": "code",
   "execution_count": null,
   "metadata": {
    "collapsed": true
   },
   "outputs": [],
   "source": []
  }
 ],
 "metadata": {
  "anaconda-cloud": {},
  "kernelspec": {
   "display_name": "Python [default]",
   "language": "python",
   "name": "python3"
  },
  "language_info": {
   "codemirror_mode": {
    "name": "ipython",
    "version": 3
   },
   "file_extension": ".py",
   "mimetype": "text/x-python",
   "name": "python",
   "nbconvert_exporter": "python",
   "pygments_lexer": "ipython3",
   "version": "3.5.2"
  }
 },
 "nbformat": 4,
 "nbformat_minor": 0
}
